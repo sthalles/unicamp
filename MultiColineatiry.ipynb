{
 "cells": [
  {
   "cell_type": "code",
   "execution_count": 1,
   "metadata": {},
   "outputs": [],
   "source": [
    "import pandas as pd\n",
    "import numpy as np\n",
    "import matplotlib.pyplot as plt\n",
    "from sklearn.model_selection import train_test_split\n",
    "from sklearn import linear_model\n",
    "from sklearn.metrics import mean_squared_error\n",
    "import seaborn as sns\n",
    "from sklearn.preprocessing import StandardScaler"
   ]
  },
  {
   "cell_type": "markdown",
   "metadata": {},
   "source": [
    "## Baseline Model"
   ]
  },
  {
   "cell_type": "code",
   "execution_count": 2,
   "metadata": {},
   "outputs": [
    {
     "data": {
      "text/html": [
       "<div>\n",
       "<style scoped>\n",
       "    .dataframe tbody tr th:only-of-type {\n",
       "        vertical-align: middle;\n",
       "    }\n",
       "\n",
       "    .dataframe tbody tr th {\n",
       "        vertical-align: top;\n",
       "    }\n",
       "\n",
       "    .dataframe thead th {\n",
       "        text-align: right;\n",
       "    }\n",
       "</style>\n",
       "<table border=\"1\" class=\"dataframe\">\n",
       "  <thead>\n",
       "    <tr style=\"text-align: right;\">\n",
       "      <th></th>\n",
       "      <th>n_tokens_title</th>\n",
       "      <th>n_tokens_content</th>\n",
       "      <th>n_unique_tokens</th>\n",
       "      <th>n_non_stop_words</th>\n",
       "      <th>n_non_stop_unique_tokens</th>\n",
       "      <th>num_hrefs</th>\n",
       "      <th>num_self_hrefs</th>\n",
       "      <th>num_imgs</th>\n",
       "      <th>num_videos</th>\n",
       "      <th>average_token_length</th>\n",
       "      <th>...</th>\n",
       "      <th>min_positive_polarity</th>\n",
       "      <th>max_positive_polarity</th>\n",
       "      <th>avg_negative_polarity</th>\n",
       "      <th>min_negative_polarity</th>\n",
       "      <th>max_negative_polarity</th>\n",
       "      <th>title_subjectivity</th>\n",
       "      <th>title_sentiment_polarity</th>\n",
       "      <th>abs_title_subjectivity</th>\n",
       "      <th>abs_title_sentiment_polarity</th>\n",
       "      <th>shares</th>\n",
       "    </tr>\n",
       "  </thead>\n",
       "  <tbody>\n",
       "    <tr>\n",
       "      <th>count</th>\n",
       "      <td>31715.000000</td>\n",
       "      <td>31715.000000</td>\n",
       "      <td>31715.000000</td>\n",
       "      <td>31715.000000</td>\n",
       "      <td>31715.000000</td>\n",
       "      <td>31715.000000</td>\n",
       "      <td>31715.000000</td>\n",
       "      <td>31715.000000</td>\n",
       "      <td>31715.000000</td>\n",
       "      <td>31715.000000</td>\n",
       "      <td>...</td>\n",
       "      <td>31715.000000</td>\n",
       "      <td>31715.000000</td>\n",
       "      <td>31715.000000</td>\n",
       "      <td>31715.000000</td>\n",
       "      <td>31715.000000</td>\n",
       "      <td>31715.000000</td>\n",
       "      <td>31715.000000</td>\n",
       "      <td>31715.000000</td>\n",
       "      <td>31715.000000</td>\n",
       "      <td>31715.000000</td>\n",
       "    </tr>\n",
       "    <tr>\n",
       "      <th>mean</th>\n",
       "      <td>10.396090</td>\n",
       "      <td>546.736560</td>\n",
       "      <td>0.552612</td>\n",
       "      <td>1.003058</td>\n",
       "      <td>0.693278</td>\n",
       "      <td>10.873120</td>\n",
       "      <td>3.284692</td>\n",
       "      <td>4.553271</td>\n",
       "      <td>1.255021</td>\n",
       "      <td>4.548455</td>\n",
       "      <td>...</td>\n",
       "      <td>0.095348</td>\n",
       "      <td>0.757242</td>\n",
       "      <td>-0.259586</td>\n",
       "      <td>-0.521935</td>\n",
       "      <td>-0.107494</td>\n",
       "      <td>0.280653</td>\n",
       "      <td>0.072275</td>\n",
       "      <td>0.342450</td>\n",
       "      <td>0.155627</td>\n",
       "      <td>3364.264386</td>\n",
       "    </tr>\n",
       "    <tr>\n",
       "      <th>std</th>\n",
       "      <td>2.117283</td>\n",
       "      <td>472.670058</td>\n",
       "      <td>3.935691</td>\n",
       "      <td>5.848093</td>\n",
       "      <td>3.649376</td>\n",
       "      <td>11.375126</td>\n",
       "      <td>3.851006</td>\n",
       "      <td>8.372558</td>\n",
       "      <td>4.112758</td>\n",
       "      <td>0.844425</td>\n",
       "      <td>...</td>\n",
       "      <td>0.071104</td>\n",
       "      <td>0.248184</td>\n",
       "      <td>0.127366</td>\n",
       "      <td>0.289919</td>\n",
       "      <td>0.094823</td>\n",
       "      <td>0.323644</td>\n",
       "      <td>0.265180</td>\n",
       "      <td>0.188618</td>\n",
       "      <td>0.226548</td>\n",
       "      <td>10742.884480</td>\n",
       "    </tr>\n",
       "    <tr>\n",
       "      <th>min</th>\n",
       "      <td>2.000000</td>\n",
       "      <td>0.000000</td>\n",
       "      <td>0.000000</td>\n",
       "      <td>0.000000</td>\n",
       "      <td>0.000000</td>\n",
       "      <td>0.000000</td>\n",
       "      <td>0.000000</td>\n",
       "      <td>0.000000</td>\n",
       "      <td>0.000000</td>\n",
       "      <td>0.000000</td>\n",
       "      <td>...</td>\n",
       "      <td>0.000000</td>\n",
       "      <td>0.000000</td>\n",
       "      <td>-1.000000</td>\n",
       "      <td>-1.000000</td>\n",
       "      <td>-1.000000</td>\n",
       "      <td>0.000000</td>\n",
       "      <td>-1.000000</td>\n",
       "      <td>0.000000</td>\n",
       "      <td>0.000000</td>\n",
       "      <td>1.000000</td>\n",
       "    </tr>\n",
       "    <tr>\n",
       "      <th>25%</th>\n",
       "      <td>9.000000</td>\n",
       "      <td>247.000000</td>\n",
       "      <td>0.471080</td>\n",
       "      <td>1.000000</td>\n",
       "      <td>0.625791</td>\n",
       "      <td>4.000000</td>\n",
       "      <td>1.000000</td>\n",
       "      <td>1.000000</td>\n",
       "      <td>0.000000</td>\n",
       "      <td>4.478168</td>\n",
       "      <td>...</td>\n",
       "      <td>0.050000</td>\n",
       "      <td>0.600000</td>\n",
       "      <td>-0.328359</td>\n",
       "      <td>-0.700000</td>\n",
       "      <td>-0.125000</td>\n",
       "      <td>0.000000</td>\n",
       "      <td>0.000000</td>\n",
       "      <td>0.166667</td>\n",
       "      <td>0.000000</td>\n",
       "      <td>945.000000</td>\n",
       "    </tr>\n",
       "    <tr>\n",
       "      <th>50%</th>\n",
       "      <td>10.000000</td>\n",
       "      <td>410.000000</td>\n",
       "      <td>0.538784</td>\n",
       "      <td>1.000000</td>\n",
       "      <td>0.690476</td>\n",
       "      <td>7.000000</td>\n",
       "      <td>3.000000</td>\n",
       "      <td>1.000000</td>\n",
       "      <td>0.000000</td>\n",
       "      <td>4.664000</td>\n",
       "      <td>...</td>\n",
       "      <td>0.100000</td>\n",
       "      <td>0.800000</td>\n",
       "      <td>-0.253333</td>\n",
       "      <td>-0.500000</td>\n",
       "      <td>-0.100000</td>\n",
       "      <td>0.125000</td>\n",
       "      <td>0.000000</td>\n",
       "      <td>0.500000</td>\n",
       "      <td>0.000000</td>\n",
       "      <td>1400.000000</td>\n",
       "    </tr>\n",
       "    <tr>\n",
       "      <th>75%</th>\n",
       "      <td>12.000000</td>\n",
       "      <td>716.000000</td>\n",
       "      <td>0.608871</td>\n",
       "      <td>1.000000</td>\n",
       "      <td>0.754717</td>\n",
       "      <td>14.000000</td>\n",
       "      <td>4.000000</td>\n",
       "      <td>4.000000</td>\n",
       "      <td>1.000000</td>\n",
       "      <td>4.854701</td>\n",
       "      <td>...</td>\n",
       "      <td>0.100000</td>\n",
       "      <td>1.000000</td>\n",
       "      <td>-0.187226</td>\n",
       "      <td>-0.300000</td>\n",
       "      <td>-0.050000</td>\n",
       "      <td>0.500000</td>\n",
       "      <td>0.142857</td>\n",
       "      <td>0.500000</td>\n",
       "      <td>0.250000</td>\n",
       "      <td>2800.000000</td>\n",
       "    </tr>\n",
       "    <tr>\n",
       "      <th>max</th>\n",
       "      <td>23.000000</td>\n",
       "      <td>8474.000000</td>\n",
       "      <td>701.000000</td>\n",
       "      <td>1042.000000</td>\n",
       "      <td>650.000000</td>\n",
       "      <td>304.000000</td>\n",
       "      <td>116.000000</td>\n",
       "      <td>128.000000</td>\n",
       "      <td>91.000000</td>\n",
       "      <td>8.041534</td>\n",
       "      <td>...</td>\n",
       "      <td>1.000000</td>\n",
       "      <td>1.000000</td>\n",
       "      <td>0.000000</td>\n",
       "      <td>0.000000</td>\n",
       "      <td>0.000000</td>\n",
       "      <td>1.000000</td>\n",
       "      <td>1.000000</td>\n",
       "      <td>0.500000</td>\n",
       "      <td>1.000000</td>\n",
       "      <td>690400.000000</td>\n",
       "    </tr>\n",
       "  </tbody>\n",
       "</table>\n",
       "<p>8 rows × 59 columns</p>\n",
       "</div>"
      ],
      "text/plain": [
       "       n_tokens_title  n_tokens_content  n_unique_tokens  n_non_stop_words  \\\n",
       "count    31715.000000      31715.000000     31715.000000      31715.000000   \n",
       "mean        10.396090        546.736560         0.552612          1.003058   \n",
       "std          2.117283        472.670058         3.935691          5.848093   \n",
       "min          2.000000          0.000000         0.000000          0.000000   \n",
       "25%          9.000000        247.000000         0.471080          1.000000   \n",
       "50%         10.000000        410.000000         0.538784          1.000000   \n",
       "75%         12.000000        716.000000         0.608871          1.000000   \n",
       "max         23.000000       8474.000000       701.000000       1042.000000   \n",
       "\n",
       "       n_non_stop_unique_tokens     num_hrefs  num_self_hrefs      num_imgs  \\\n",
       "count              31715.000000  31715.000000    31715.000000  31715.000000   \n",
       "mean                   0.693278     10.873120        3.284692      4.553271   \n",
       "std                    3.649376     11.375126        3.851006      8.372558   \n",
       "min                    0.000000      0.000000        0.000000      0.000000   \n",
       "25%                    0.625791      4.000000        1.000000      1.000000   \n",
       "50%                    0.690476      7.000000        3.000000      1.000000   \n",
       "75%                    0.754717     14.000000        4.000000      4.000000   \n",
       "max                  650.000000    304.000000      116.000000    128.000000   \n",
       "\n",
       "         num_videos  average_token_length      ...        \\\n",
       "count  31715.000000          31715.000000      ...         \n",
       "mean       1.255021              4.548455      ...         \n",
       "std        4.112758              0.844425      ...         \n",
       "min        0.000000              0.000000      ...         \n",
       "25%        0.000000              4.478168      ...         \n",
       "50%        0.000000              4.664000      ...         \n",
       "75%        1.000000              4.854701      ...         \n",
       "max       91.000000              8.041534      ...         \n",
       "\n",
       "       min_positive_polarity  max_positive_polarity  avg_negative_polarity  \\\n",
       "count           31715.000000           31715.000000           31715.000000   \n",
       "mean                0.095348               0.757242              -0.259586   \n",
       "std                 0.071104               0.248184               0.127366   \n",
       "min                 0.000000               0.000000              -1.000000   \n",
       "25%                 0.050000               0.600000              -0.328359   \n",
       "50%                 0.100000               0.800000              -0.253333   \n",
       "75%                 0.100000               1.000000              -0.187226   \n",
       "max                 1.000000               1.000000               0.000000   \n",
       "\n",
       "       min_negative_polarity  max_negative_polarity  title_subjectivity  \\\n",
       "count           31715.000000           31715.000000        31715.000000   \n",
       "mean               -0.521935              -0.107494            0.280653   \n",
       "std                 0.289919               0.094823            0.323644   \n",
       "min                -1.000000              -1.000000            0.000000   \n",
       "25%                -0.700000              -0.125000            0.000000   \n",
       "50%                -0.500000              -0.100000            0.125000   \n",
       "75%                -0.300000              -0.050000            0.500000   \n",
       "max                 0.000000               0.000000            1.000000   \n",
       "\n",
       "       title_sentiment_polarity  abs_title_subjectivity  \\\n",
       "count              31715.000000            31715.000000   \n",
       "mean                   0.072275                0.342450   \n",
       "std                    0.265180                0.188618   \n",
       "min                   -1.000000                0.000000   \n",
       "25%                    0.000000                0.166667   \n",
       "50%                    0.000000                0.500000   \n",
       "75%                    0.142857                0.500000   \n",
       "max                    1.000000                0.500000   \n",
       "\n",
       "       abs_title_sentiment_polarity         shares  \n",
       "count                  31715.000000   31715.000000  \n",
       "mean                       0.155627    3364.264386  \n",
       "std                        0.226548   10742.884480  \n",
       "min                        0.000000       1.000000  \n",
       "25%                        0.000000     945.000000  \n",
       "50%                        0.000000    1400.000000  \n",
       "75%                        0.250000    2800.000000  \n",
       "max                        1.000000  690400.000000  \n",
       "\n",
       "[8 rows x 59 columns]"
      ]
     },
     "execution_count": 2,
     "metadata": {},
     "output_type": "execute_result"
    }
   ],
   "source": [
    "df = pd.read_csv(\"./train.csv\")\n",
    "df = df.drop(['url', 'timedelta'], axis=1)\n",
    "df.describe()"
   ]
  },
  {
   "cell_type": "code",
   "execution_count": 3,
   "metadata": {},
   "outputs": [
    {
     "data": {
      "text/plain": [
       "n_tokens_title              0.0\n",
       "n_tokens_content            0.0\n",
       "n_unique_tokens             0.0\n",
       "n_non_stop_words            0.0\n",
       "n_non_stop_unique_tokens    0.0\n",
       "dtype: float64"
      ]
     },
     "execution_count": 3,
     "metadata": {},
     "output_type": "execute_result"
    }
   ],
   "source": [
    "# Let's just make sure there is no missing values in the dataset.\n",
    "# As we can see, we do not have missing values in any of the dataset features.\n",
    "df.isnull().mean().head()"
   ]
  },
  {
   "cell_type": "code",
   "execution_count": 4,
   "metadata": {},
   "outputs": [],
   "source": [
    "y = df['shares'].to_frame()\n",
    "X = df.drop('shares', axis=1)"
   ]
  },
  {
   "cell_type": "code",
   "execution_count": 5,
   "metadata": {},
   "outputs": [
    {
     "name": "stdout",
     "output_type": "stream",
     "text": [
      "Validation size: (6343, 58)\n",
      "Training size: (25372, 58)\n"
     ]
    }
   ],
   "source": [
    "X_train, X_test, y_train, y_test = train_test_split(X, y, test_size=0.2, random_state=42)\n",
    "print(\"Validation size:\", X_test.shape)\n",
    "print(\"Training size:\", X_train.shape)"
   ]
  },
  {
   "cell_type": "code",
   "execution_count": 6,
   "metadata": {},
   "outputs": [
    {
     "name": "stdout",
     "output_type": "stream",
     "text": [
      "MSE: 99066430.15125903\n"
     ]
    }
   ],
   "source": [
    "# Create linear regression object\n",
    "regr = linear_model.LinearRegression()\n",
    "\n",
    "# Train the model using the training sets\n",
    "regr.fit(X_train, y_train)\n",
    "\n",
    "pred = regr.predict(X_test)\n",
    "\n",
    "print(\"MSE:\", mean_squared_error(y_test, pred)) # 99000098.74925786"
   ]
  },
  {
   "cell_type": "code",
   "execution_count": 7,
   "metadata": {},
   "outputs": [
    {
     "name": "stdout",
     "output_type": "stream",
     "text": [
      "(7929, 58)\n"
     ]
    }
   ],
   "source": [
    "# load the testing data\n",
    "df_test_X = pd.read_csv(\"./test.csv\")\n",
    "df_test_X = df_test_X.drop(['url', 'timedelta'], axis=1)\n",
    "df_test_y = pd.read_csv(\"./test_target.csv\")\n",
    "print(df_test_X.shape)"
   ]
  },
  {
   "cell_type": "code",
   "execution_count": 8,
   "metadata": {},
   "outputs": [
    {
     "name": "stdout",
     "output_type": "stream",
     "text": [
      "Test MSE: 212834922.19893312\n"
     ]
    }
   ],
   "source": [
    "pred = regr.predict(df_test_X)\n",
    "print(\"Test MSE:\", mean_squared_error(df_test_y, pred)) # 99000098.74925786"
   ]
  },
  {
   "cell_type": "markdown",
   "metadata": {},
   "source": [
    "## MultiColinearity"
   ]
  },
  {
   "cell_type": "code",
   "execution_count": 9,
   "metadata": {},
   "outputs": [
    {
     "data": {
      "text/html": [
       "<div>\n",
       "<style scoped>\n",
       "    .dataframe tbody tr th:only-of-type {\n",
       "        vertical-align: middle;\n",
       "    }\n",
       "\n",
       "    .dataframe tbody tr th {\n",
       "        vertical-align: top;\n",
       "    }\n",
       "\n",
       "    .dataframe thead th {\n",
       "        text-align: right;\n",
       "    }\n",
       "</style>\n",
       "<table border=\"1\" class=\"dataframe\">\n",
       "  <thead>\n",
       "    <tr style=\"text-align: right;\">\n",
       "      <th></th>\n",
       "      <th>n_tokens_title</th>\n",
       "      <th>n_tokens_content</th>\n",
       "      <th>n_unique_tokens</th>\n",
       "      <th>n_non_stop_words</th>\n",
       "      <th>n_non_stop_unique_tokens</th>\n",
       "      <th>num_hrefs</th>\n",
       "      <th>num_self_hrefs</th>\n",
       "      <th>num_imgs</th>\n",
       "      <th>num_videos</th>\n",
       "      <th>average_token_length</th>\n",
       "      <th>...</th>\n",
       "      <th>avg_positive_polarity</th>\n",
       "      <th>min_positive_polarity</th>\n",
       "      <th>max_positive_polarity</th>\n",
       "      <th>avg_negative_polarity</th>\n",
       "      <th>min_negative_polarity</th>\n",
       "      <th>max_negative_polarity</th>\n",
       "      <th>title_subjectivity</th>\n",
       "      <th>title_sentiment_polarity</th>\n",
       "      <th>abs_title_subjectivity</th>\n",
       "      <th>abs_title_sentiment_polarity</th>\n",
       "    </tr>\n",
       "  </thead>\n",
       "  <tbody>\n",
       "    <tr>\n",
       "      <th>n_tokens_title</th>\n",
       "      <td>0.000000</td>\n",
       "      <td>0.017692</td>\n",
       "      <td>-0.005465</td>\n",
       "      <td>-0.004962</td>\n",
       "      <td>-0.005550</td>\n",
       "      <td>-0.051739</td>\n",
       "      <td>-0.011529</td>\n",
       "      <td>-0.009095</td>\n",
       "      <td>0.052804</td>\n",
       "      <td>-0.071913</td>\n",
       "      <td>...</td>\n",
       "      <td>-0.050339</td>\n",
       "      <td>-0.024713</td>\n",
       "      <td>-0.022913</td>\n",
       "      <td>-0.024264</td>\n",
       "      <td>-0.032667</td>\n",
       "      <td>0.006652</td>\n",
       "      <td>0.077736</td>\n",
       "      <td>-0.002090</td>\n",
       "      <td>-0.148861</td>\n",
       "      <td>0.039915</td>\n",
       "    </tr>\n",
       "    <tr>\n",
       "      <th>n_tokens_content</th>\n",
       "      <td>0.017692</td>\n",
       "      <td>0.000000</td>\n",
       "      <td>-0.001827</td>\n",
       "      <td>0.018039</td>\n",
       "      <td>0.002752</td>\n",
       "      <td>0.420099</td>\n",
       "      <td>0.301950</td>\n",
       "      <td>0.342181</td>\n",
       "      <td>0.101826</td>\n",
       "      <td>0.167041</td>\n",
       "      <td>...</td>\n",
       "      <td>0.136961</td>\n",
       "      <td>-0.260795</td>\n",
       "      <td>0.415600</td>\n",
       "      <td>-0.131471</td>\n",
       "      <td>-0.451339</td>\n",
       "      <td>0.225185</td>\n",
       "      <td>0.004539</td>\n",
       "      <td>0.022882</td>\n",
       "      <td>0.007337</td>\n",
       "      <td>0.013475</td>\n",
       "    </tr>\n",
       "    <tr>\n",
       "      <th>n_unique_tokens</th>\n",
       "      <td>-0.005465</td>\n",
       "      <td>-0.001827</td>\n",
       "      <td>0.000000</td>\n",
       "      <td>0.999656</td>\n",
       "      <td>0.999881</td>\n",
       "      <td>-0.003894</td>\n",
       "      <td>0.007938</td>\n",
       "      <td>0.022794</td>\n",
       "      <td>-0.000837</td>\n",
       "      <td>0.023789</td>\n",
       "      <td>...</td>\n",
       "      <td>-0.004277</td>\n",
       "      <td>0.006716</td>\n",
       "      <td>-0.011561</td>\n",
       "      <td>0.003749</td>\n",
       "      <td>0.010999</td>\n",
       "      <td>-0.005169</td>\n",
       "      <td>-0.005307</td>\n",
       "      <td>-0.002506</td>\n",
       "      <td>-0.010260</td>\n",
       "      <td>-0.004701</td>\n",
       "    </tr>\n",
       "    <tr>\n",
       "      <th>n_non_stop_words</th>\n",
       "      <td>-0.004962</td>\n",
       "      <td>0.018039</td>\n",
       "      <td>0.999656</td>\n",
       "      <td>0.000000</td>\n",
       "      <td>0.999625</td>\n",
       "      <td>0.004928</td>\n",
       "      <td>0.014129</td>\n",
       "      <td>0.031451</td>\n",
       "      <td>-0.001147</td>\n",
       "      <td>0.028398</td>\n",
       "      <td>...</td>\n",
       "      <td>-0.001770</td>\n",
       "      <td>-0.000701</td>\n",
       "      <td>-0.001596</td>\n",
       "      <td>0.001066</td>\n",
       "      <td>0.000942</td>\n",
       "      <td>0.000593</td>\n",
       "      <td>-0.005925</td>\n",
       "      <td>-0.001847</td>\n",
       "      <td>-0.009583</td>\n",
       "      <td>-0.004809</td>\n",
       "    </tr>\n",
       "    <tr>\n",
       "      <th>n_non_stop_unique_tokens</th>\n",
       "      <td>-0.005550</td>\n",
       "      <td>0.002752</td>\n",
       "      <td>0.999881</td>\n",
       "      <td>0.999625</td>\n",
       "      <td>0.000000</td>\n",
       "      <td>-0.004454</td>\n",
       "      <td>0.008804</td>\n",
       "      <td>0.018705</td>\n",
       "      <td>-0.001202</td>\n",
       "      <td>0.030743</td>\n",
       "      <td>...</td>\n",
       "      <td>0.000395</td>\n",
       "      <td>0.005996</td>\n",
       "      <td>-0.005419</td>\n",
       "      <td>0.000721</td>\n",
       "      <td>0.006017</td>\n",
       "      <td>-0.004550</td>\n",
       "      <td>-0.006350</td>\n",
       "      <td>-0.003039</td>\n",
       "      <td>-0.009664</td>\n",
       "      <td>-0.005680</td>\n",
       "    </tr>\n",
       "  </tbody>\n",
       "</table>\n",
       "<p>5 rows × 58 columns</p>\n",
       "</div>"
      ],
      "text/plain": [
       "                          n_tokens_title  n_tokens_content  n_unique_tokens  \\\n",
       "n_tokens_title                  0.000000          0.017692        -0.005465   \n",
       "n_tokens_content                0.017692          0.000000        -0.001827   \n",
       "n_unique_tokens                -0.005465         -0.001827         0.000000   \n",
       "n_non_stop_words               -0.004962          0.018039         0.999656   \n",
       "n_non_stop_unique_tokens       -0.005550          0.002752         0.999881   \n",
       "\n",
       "                          n_non_stop_words  n_non_stop_unique_tokens  \\\n",
       "n_tokens_title                   -0.004962                 -0.005550   \n",
       "n_tokens_content                  0.018039                  0.002752   \n",
       "n_unique_tokens                   0.999656                  0.999881   \n",
       "n_non_stop_words                  0.000000                  0.999625   \n",
       "n_non_stop_unique_tokens          0.999625                  0.000000   \n",
       "\n",
       "                          num_hrefs  num_self_hrefs  num_imgs  num_videos  \\\n",
       "n_tokens_title            -0.051739       -0.011529 -0.009095    0.052804   \n",
       "n_tokens_content           0.420099        0.301950  0.342181    0.101826   \n",
       "n_unique_tokens           -0.003894        0.007938  0.022794   -0.000837   \n",
       "n_non_stop_words           0.004928        0.014129  0.031451   -0.001147   \n",
       "n_non_stop_unique_tokens  -0.004454        0.008804  0.018705   -0.001202   \n",
       "\n",
       "                          average_token_length              ...               \\\n",
       "n_tokens_title                       -0.071913              ...                \n",
       "n_tokens_content                      0.167041              ...                \n",
       "n_unique_tokens                       0.023789              ...                \n",
       "n_non_stop_words                      0.028398              ...                \n",
       "n_non_stop_unique_tokens              0.030743              ...                \n",
       "\n",
       "                          avg_positive_polarity  min_positive_polarity  \\\n",
       "n_tokens_title                        -0.050339              -0.024713   \n",
       "n_tokens_content                       0.136961              -0.260795   \n",
       "n_unique_tokens                       -0.004277               0.006716   \n",
       "n_non_stop_words                      -0.001770              -0.000701   \n",
       "n_non_stop_unique_tokens               0.000395               0.005996   \n",
       "\n",
       "                          max_positive_polarity  avg_negative_polarity  \\\n",
       "n_tokens_title                        -0.022913              -0.024264   \n",
       "n_tokens_content                       0.415600              -0.131471   \n",
       "n_unique_tokens                       -0.011561               0.003749   \n",
       "n_non_stop_words                      -0.001596               0.001066   \n",
       "n_non_stop_unique_tokens              -0.005419               0.000721   \n",
       "\n",
       "                          min_negative_polarity  max_negative_polarity  \\\n",
       "n_tokens_title                        -0.032667               0.006652   \n",
       "n_tokens_content                      -0.451339               0.225185   \n",
       "n_unique_tokens                        0.010999              -0.005169   \n",
       "n_non_stop_words                       0.000942               0.000593   \n",
       "n_non_stop_unique_tokens               0.006017              -0.004550   \n",
       "\n",
       "                          title_subjectivity  title_sentiment_polarity  \\\n",
       "n_tokens_title                      0.077736                 -0.002090   \n",
       "n_tokens_content                    0.004539                  0.022882   \n",
       "n_unique_tokens                    -0.005307                 -0.002506   \n",
       "n_non_stop_words                   -0.005925                 -0.001847   \n",
       "n_non_stop_unique_tokens           -0.006350                 -0.003039   \n",
       "\n",
       "                          abs_title_subjectivity  abs_title_sentiment_polarity  \n",
       "n_tokens_title                         -0.148861                      0.039915  \n",
       "n_tokens_content                        0.007337                      0.013475  \n",
       "n_unique_tokens                        -0.010260                     -0.004701  \n",
       "n_non_stop_words                       -0.009583                     -0.004809  \n",
       "n_non_stop_unique_tokens               -0.009664                     -0.005680  \n",
       "\n",
       "[5 rows x 58 columns]"
      ]
     },
     "execution_count": 9,
     "metadata": {},
     "output_type": "execute_result"
    }
   ],
   "source": [
    "# analize multicolinearity between the predicted variables\n",
    "# Multicollinearity occurs when the independent variables are too highly correlated with each other.\n",
    "independent_vars =  df.drop(['shares'], axis=1).copy()\n",
    "corr = independent_vars.corr()\n",
    "# [['kw_max_min', 'kw_avg_min', 'kw_max_max', 'kw_avg_max', 'kw_max_avg', 'kw_min_avg']]\n",
    "# zero out the main diogonal\n",
    "corr.values[[np.arange(corr.shape[0])]*2] = 0\n",
    "corr.head()"
   ]
  },
  {
   "cell_type": "code",
   "execution_count": 10,
   "metadata": {},
   "outputs": [
    {
     "data": {
      "text/plain": [
       "<matplotlib.axes._subplots.AxesSubplot at 0x7f383ed688d0>"
      ]
     },
     "execution_count": 10,
     "metadata": {},
     "output_type": "execute_result"
    },
    {
     "data": {
      "image/png": "[encoded data removed]",
      "text/plain": [
       "<matplotlib.figure.Figure at 0x7f383ed920f0>"
      ]
     },
     "metadata": {},
     "output_type": "display_data"
    }
   ],
   "source": [
    "# Generate a mask for the upper triangle\n",
    "mask = np.zeros_like(corr, dtype=np.bool)\n",
    "mask[np.triu_indices_from(mask)] = True\n",
    "\n",
    "# Set up the matplotlib figure\n",
    "f, ax = plt.subplots(figsize=(11, 9))\n",
    "\n",
    "# Generate a custom diverging colormap\n",
    "cmap = sns.diverging_palette(220, 10, as_cmap=True)\n",
    "\n",
    "# Draw the heatmap with the mask and correct aspect ratio\n",
    "sns.heatmap(corr, mask=mask, cmap=cmap, vmin=-1, vmax=1, center=0,\n",
    "            square=True, linewidths=.5, cbar_kws={\"shrink\": .5})"
   ]
  },
  {
   "cell_type": "code",
   "execution_count": 11,
   "metadata": {},
   "outputs": [
    {
     "name": "stdout",
     "output_type": "stream",
     "text": [
      "n_unique_tokens correlates with n_non_stop_unique_tokens by: 0.999881388474618\n",
      "n_non_stop_words correlates with n_unique_tokens by: 0.9996561133090591\n",
      "n_non_stop_unique_tokens correlates with n_unique_tokens by: 0.999881388474618\n",
      "average_token_length correlates with global_subjectivity by: 0.598864301627312\n",
      "data_channel_is_entertainment correlates with LDA_01 by: 0.59663582792288\n",
      "data_channel_is_bus correlates with LDA_00 by: 0.774827728300371\n",
      "data_channel_is_tech correlates with LDA_04 by: 0.7474736900575939\n",
      "data_channel_is_world correlates with LDA_02 by: 0.8365843338395673\n",
      "kw_max_min correlates with kw_avg_min by: 0.9405604355646446\n",
      "kw_avg_min correlates with kw_max_min by: 0.9405604355646446\n",
      "kw_max_max correlates with kw_avg_max by: 0.5633416115970661\n",
      "kw_avg_max correlates with kw_max_max by: 0.5633416115970661\n",
      "kw_max_avg correlates with kw_avg_avg by: 0.8128735907307559\n",
      "kw_avg_avg correlates with kw_max_avg by: 0.8128735907307559\n",
      "self_reference_min_shares correlates with self_reference_avg_sharess by: 0.8114945968866379\n",
      "self_reference_max_shares correlates with self_reference_avg_sharess by: 0.8555811674813705\n",
      "self_reference_avg_sharess correlates with self_reference_max_shares by: 0.8555811674813705\n",
      "weekday_is_saturday correlates with is_weekend by: 0.6619105128876981\n",
      "weekday_is_sunday correlates with is_weekend by: 0.7014916952592324\n",
      "is_weekend correlates with weekday_is_sunday by: 0.7014916952592324\n",
      "LDA_00 correlates with data_channel_is_bus by: 0.774827728300371\n",
      "LDA_01 correlates with data_channel_is_entertainment by: 0.59663582792288\n",
      "LDA_02 correlates with data_channel_is_world by: 0.8365843338395673\n",
      "LDA_04 correlates with data_channel_is_tech by: 0.7474736900575939\n",
      "global_subjectivity correlates with avg_positive_polarity by: 0.6311985383525515\n",
      "global_sentiment_polarity correlates with rate_positive_words by: 0.7275064726132152\n",
      "global_rate_positive_words correlates with rate_positive_words by: 0.6300241334564982\n",
      "global_rate_negative_words correlates with rate_negative_words by: 0.7795260980178215\n",
      "rate_positive_words correlates with global_sentiment_polarity by: 0.7275064726132152\n",
      "rate_negative_words correlates with global_rate_negative_words by: 0.7795260980178215\n",
      "avg_positive_polarity correlates with max_positive_polarity by: 0.7051273666814917\n",
      "max_positive_polarity correlates with avg_positive_polarity by: 0.7051273666814917\n",
      "avg_negative_polarity correlates with min_negative_polarity by: 0.7490885115025838\n",
      "min_negative_polarity correlates with avg_negative_polarity by: 0.7490885115025838\n",
      "max_negative_polarity correlates with avg_negative_polarity by: 0.5768207733664683\n",
      "title_subjectivity correlates with abs_title_sentiment_polarity by: 0.7137063874281093\n",
      "abs_title_sentiment_polarity correlates with title_subjectivity by: 0.7137063874281093\n"
     ]
    },
    {
     "name": "stderr",
     "output_type": "stream",
     "text": [
      "/home/thalles/workspace/virtualenvs/data_science/lib/python3.6/site-packages/ipykernel_launcher.py:4: FutureWarning: 'argmax' is deprecated. Use 'idxmax' instead. The behavior of 'argmax' will be corrected to return the positional maximum in the future. Use 'series.values.argmax' to get the position of the maximum now.\n",
      "  after removing the cwd from sys.path.\n"
     ]
    }
   ],
   "source": [
    "not_multicorrelated_vars = []\n",
    "for col in corr.columns:\n",
    "    max_corr = corr[col].max()\n",
    "    corr_var = corr[col].argmax()\n",
    "    if max_corr > 0.5:\n",
    "        print(col, 'correlates with', corr_var, 'by:', max_corr)\n",
    "    else:\n",
    "        not_multicorrelated_vars.append(col)"
   ]
  },
  {
   "cell_type": "code",
   "execution_count": 12,
   "metadata": {},
   "outputs": [
    {
     "data": {
      "text/plain": [
       "['n_tokens_title',\n",
       " 'n_tokens_content',\n",
       " 'num_hrefs',\n",
       " 'num_self_hrefs',\n",
       " 'num_imgs',\n",
       " 'num_videos',\n",
       " 'num_keywords',\n",
       " 'data_channel_is_lifestyle',\n",
       " 'data_channel_is_socmed',\n",
       " 'kw_min_min',\n",
       " 'kw_min_max',\n",
       " 'kw_min_avg',\n",
       " 'weekday_is_monday',\n",
       " 'weekday_is_tuesday',\n",
       " 'weekday_is_wednesday',\n",
       " 'weekday_is_thursday',\n",
       " 'weekday_is_friday',\n",
       " 'LDA_03',\n",
       " 'min_positive_polarity',\n",
       " 'title_sentiment_polarity',\n",
       " 'abs_title_subjectivity']"
      ]
     },
     "execution_count": 12,
     "metadata": {},
     "output_type": "execute_result"
    }
   ],
   "source": [
    "not_multicorrelated_vars"
   ]
  },
  {
   "cell_type": "code",
   "execution_count": 13,
   "metadata": {},
   "outputs": [
    {
     "name": "stderr",
     "output_type": "stream",
     "text": [
      "/home/thalles/workspace/virtualenvs/data_science/lib/python3.6/site-packages/statsmodels/compat/pandas.py:56: FutureWarning: The pandas.core.datetools module is deprecated and will be removed in a future version. Please use the pandas.tseries module instead.\n",
      "  from pandas.core import datetools\n"
     ]
    }
   ],
   "source": [
    "import pandas as pd\n",
    "import numpy as np\n",
    "import statsmodels.api as sm\n",
    "from patsy import dmatrices\n",
    "from statsmodels.stats.outliers_influence import variance_inflation_factor\n",
    "\n",
    "#gather features\n",
    "features = \"+\".join(independent_vars.columns)\n",
    "# get y and X dataframes based on this regression:\n",
    "y, X = dmatrices('shares ~' + features, df, return_type='dataframe')"
   ]
  },
  {
   "cell_type": "code",
   "execution_count": 14,
   "metadata": {},
   "outputs": [
    {
     "name": "stderr",
     "output_type": "stream",
     "text": [
      "/home/thalles/workspace/virtualenvs/data_science/lib/python3.6/site-packages/statsmodels/regression/linear_model.py:1386: RuntimeWarning: divide by zero encountered in double_scalars\n",
      "  return 1 - self.ssr/self.centered_tss\n",
      "/home/thalles/workspace/virtualenvs/data_science/lib/python3.6/site-packages/statsmodels/stats/outliers_influence.py:167: RuntimeWarning: divide by zero encountered in double_scalars\n",
      "  vif = 1. / (1. - r_squared_i)\n"
     ]
    }
   ],
   "source": [
    "# For each X, calculate VIF and save in dataframe\n",
    "vif = pd.DataFrame()\n",
    "vif[\"VIF Factor\"] = [variance_inflation_factor(X.values, i) for i in range(X.shape[1])]\n",
    "vif[\"features\"] = X.columns"
   ]
  },
  {
   "cell_type": "code",
   "execution_count": 15,
   "metadata": {},
   "outputs": [
    {
     "data": {
      "text/html": [
       "<div>\n",
       "<style scoped>\n",
       "    .dataframe tbody tr th:only-of-type {\n",
       "        vertical-align: middle;\n",
       "    }\n",
       "\n",
       "    .dataframe tbody tr th {\n",
       "        vertical-align: top;\n",
       "    }\n",
       "\n",
       "    .dataframe thead th {\n",
       "        text-align: right;\n",
       "    }\n",
       "</style>\n",
       "<table border=\"1\" class=\"dataframe\">\n",
       "  <thead>\n",
       "    <tr style=\"text-align: right;\">\n",
       "      <th></th>\n",
       "      <th>VIF Factor</th>\n",
       "      <th>features</th>\n",
       "    </tr>\n",
       "  </thead>\n",
       "  <tbody>\n",
       "    <tr>\n",
       "      <th>0</th>\n",
       "      <td>0.0</td>\n",
       "      <td>Intercept</td>\n",
       "    </tr>\n",
       "    <tr>\n",
       "      <th>1</th>\n",
       "      <td>1.1</td>\n",
       "      <td>n_tokens_title</td>\n",
       "    </tr>\n",
       "    <tr>\n",
       "      <th>2</th>\n",
       "      <td>3.3</td>\n",
       "      <td>n_tokens_content</td>\n",
       "    </tr>\n",
       "    <tr>\n",
       "      <th>3</th>\n",
       "      <td>17027.6</td>\n",
       "      <td>n_unique_tokens</td>\n",
       "    </tr>\n",
       "    <tr>\n",
       "      <th>4</th>\n",
       "      <td>561804.4</td>\n",
       "      <td>n_non_stop_words</td>\n",
       "    </tr>\n",
       "  </tbody>\n",
       "</table>\n",
       "</div>"
      ],
      "text/plain": [
       "   VIF Factor          features\n",
       "0         0.0         Intercept\n",
       "1         1.1    n_tokens_title\n",
       "2         3.3  n_tokens_content\n",
       "3     17027.6   n_unique_tokens\n",
       "4    561804.4  n_non_stop_words"
      ]
     },
     "execution_count": 15,
     "metadata": {},
     "output_type": "execute_result"
    }
   ],
   "source": [
    "vif_score = vif.round(1)\n",
    "vif_score.head()"
   ]
  },
  {
   "cell_type": "code",
   "execution_count": 16,
   "metadata": {},
   "outputs": [
    {
     "name": "stdout",
     "output_type": "stream",
     "text": [
      "Number of selected vars: 35\n"
     ]
    }
   ],
   "source": [
    "not_multicorrelated_vars_vif = list(vif_score.loc[vif_score['VIF Factor'] < 10].features)\n",
    "not_multicorrelated_vars_vif.remove('Intercept')\n",
    "print(\"Number of selected vars:\", len(not_multicorrelated_vars_vif))"
   ]
  },
  {
   "cell_type": "code",
   "execution_count": 17,
   "metadata": {},
   "outputs": [],
   "source": [
    "vars_to_use = ['n_tokens_title', 'num_hrefs', 'num_self_hrefs', 'average_token_length', \n",
    "               'data_channel_is_entertainment', 'kw_min_max', 'kw_min_avg', 'kw_max_avg', \n",
    "               'kw_avg_avg', 'self_reference_min_shares', 'global_subjectivity']\n",
    "\n",
    "#set(not_multicorrelated_vars_vif).intersection(vars_to_use)"
   ]
  },
  {
   "cell_type": "code",
   "execution_count": 18,
   "metadata": {},
   "outputs": [],
   "source": [
    "X = df[vars_to_use]\n",
    "y = df['shares'].to_frame()"
   ]
  },
  {
   "cell_type": "code",
   "execution_count": 19,
   "metadata": {},
   "outputs": [
    {
     "data": {
      "text/plain": [
       "(25372, 11)"
      ]
     },
     "execution_count": 19,
     "metadata": {},
     "output_type": "execute_result"
    }
   ],
   "source": [
    "X_scaler = StandardScaler()\n",
    "X_scaled = X_scaler.fit_transform(X)\n",
    "\n",
    "X_train, X_test, y_train, y_test = train_test_split(X_scaled, y, test_size=0.2, random_state=42)\n",
    "X_train.shape"
   ]
  },
  {
   "cell_type": "code",
   "execution_count": 20,
   "metadata": {},
   "outputs": [
    {
     "name": "stdout",
     "output_type": "stream",
     "text": [
      "MSE: 99000098.74925452\n"
     ]
    },
    {
     "data": {
      "text/plain": [
       "[<matplotlib.lines.Line2D at 0x7f3838801dd8>]"
      ]
     },
     "execution_count": 20,
     "metadata": {},
     "output_type": "execute_result"
    },
    {
     "data": {
      "image/png": "[encoded data removed]",
      "text/plain": [
       "<matplotlib.figure.Figure at 0x7f383ee248d0>"
      ]
     },
     "metadata": {},
     "output_type": "display_data"
    }
   ],
   "source": [
    "# Create linear regression object\n",
    "regr = linear_model.LinearRegression()\n",
    "\n",
    "# Train the model using the training sets\n",
    "regr.fit(X_train, y_train)\n",
    "\n",
    "pred = regr.predict(X_test)\n",
    "\n",
    "print(\"MSE:\", mean_squared_error(y_test, pred))\n",
    "\n",
    "plt.plot(y_test.values.squeeze(), label=\"test\")\n",
    "plt.plot(pred.squeeze(), label=\"pred\")\n",
    "\n",
    "# 99000098.74925452"
   ]
  },
  {
   "cell_type": "code",
   "execution_count": 21,
   "metadata": {},
   "outputs": [
    {
     "name": "stdout",
     "output_type": "stream",
     "text": [
      "Test MSE: 212557417.12076643\n"
     ]
    }
   ],
   "source": [
    "df_test_X_scaled = X_scaler.transform(df_test_X[vars_to_use])\n",
    "pred = regr.predict(df_test_X_scaled)\n",
    "print(\"Test MSE:\", mean_squared_error(df_test_y, pred)) # 99000098.74925786"
   ]
  },
  {
   "cell_type": "markdown",
   "metadata": {},
   "source": [
    "## Normal Distributions"
   ]
  },
  {
   "cell_type": "code",
   "execution_count": 22,
   "metadata": {},
   "outputs": [
    {
     "data": {
      "image/png": "[encoded data removed]",
      "text/plain": [
       "<matplotlib.figure.Figure at 0x7f383f082278>"
      ]
     },
     "metadata": {},
     "output_type": "display_data"
    }
   ],
   "source": [
    "# let's a quick look at the variables distributions\n",
    "_ = X.hist(bins=60, figsize=(12,12))"
   ]
  },
  {
   "cell_type": "code",
   "execution_count": 23,
   "metadata": {},
   "outputs": [],
   "source": [
    "def normal_distribution(data):\n",
    "    X_transformed = pd.DataFrame()\n",
    "    for col in data:\n",
    "        if col not in ['data_channel_is_entertainment', 'kw_min_avg']:\n",
    "            #print(\"Transforming:\", col)\n",
    "            X_transformed[col] = data[col] ** (1/4)\n",
    "        else:\n",
    "            #print(\"Copying:\", col)\n",
    "            X_transformed[col] = data[col].copy()\n",
    "    X_transformed.isnull().mean()\n",
    "    return X_transformed"
   ]
  },
  {
   "cell_type": "code",
   "execution_count": 24,
   "metadata": {},
   "outputs": [],
   "source": [
    "X_transformed = normal_distribution(X)"
   ]
  },
  {
   "cell_type": "code",
   "execution_count": 25,
   "metadata": {},
   "outputs": [
    {
     "data": {
      "image/png": "[encoded data removed]",
      "text/plain": [
       "<matplotlib.figure.Figure at 0x7f38384a6c18>"
      ]
     },
     "metadata": {},
     "output_type": "display_data"
    }
   ],
   "source": [
    "_ = X_transformed.hist(bins=60, figsize=(12,12))"
   ]
  },
  {
   "cell_type": "code",
   "execution_count": 26,
   "metadata": {},
   "outputs": [],
   "source": [
    "X_scaler = StandardScaler()\n",
    "X_transformed_scaled = X_scaler.fit_transform(X_transformed)\n",
    "X_train, X_test, y_train, y_test = train_test_split(X_transformed_scaled, y, test_size=0.2, random_state=42)"
   ]
  },
  {
   "cell_type": "code",
   "execution_count": 27,
   "metadata": {},
   "outputs": [
    {
     "name": "stdout",
     "output_type": "stream",
     "text": [
      "MSE: 98625520.57670483\n"
     ]
    }
   ],
   "source": [
    "# Create linear regression object\n",
    "regr = linear_model.LinearRegression()\n",
    "\n",
    "# Train the model using the training sets\n",
    "regr.fit(X_train, y_train)\n",
    "\n",
    "pred = regr.predict(X_test)\n",
    "\n",
    "print(\"MSE:\", mean_squared_error(y_test, pred)) # 99000098.74925786"
   ]
  },
  {
   "cell_type": "code",
   "execution_count": 28,
   "metadata": {},
   "outputs": [
    {
     "name": "stdout",
     "output_type": "stream",
     "text": [
      "Test MSE: 212365320.9959406\n"
     ]
    }
   ],
   "source": [
    "# test data error\n",
    "\n",
    "test_set = df_test_X[vars_to_use]\n",
    "test_set = normal_distribution(test_set)\n",
    "\n",
    "df_test_X_scaled = X_scaler.transform(test_set)\n",
    "pred = regr.predict(df_test_X_scaled)\n",
    "print(\"Test MSE:\", mean_squared_error(df_test_y, pred)) # 99000098.74925786"
   ]
  },
  {
   "cell_type": "code",
   "execution_count": 29,
   "metadata": {},
   "outputs": [
    {
     "name": "stdout",
     "output_type": "stream",
     "text": [
      "MSE: 98890716.95892848\n"
     ]
    },
    {
     "name": "stderr",
     "output_type": "stream",
     "text": [
      "/home/thalles/workspace/virtualenvs/data_science/lib/python3.6/site-packages/sklearn/linear_model/stochastic_gradient.py:128: FutureWarning: max_iter and tol parameters have been added in <class 'sklearn.linear_model.stochastic_gradient.SGDRegressor'> in 0.19. If both are left unset, they default to max_iter=5 and tol=None. If tol is not None, max_iter defaults to max_iter=1000. From 0.21, default max_iter will be 1000, and default tol will be 1e-3.\n",
      "  \"and default tol will be 1e-3.\" % type(self), FutureWarning)\n"
     ]
    }
   ],
   "source": [
    "clf = linear_model.SGDRegressor(random_state=42)\n",
    "clf.fit(X_train, y_train.values.squeeze())\n",
    "pred = clf.predict(X_test)\n",
    "print(\"MSE:\", mean_squared_error(y_test, pred)) # 99000098.74925786"
   ]
  },
  {
   "cell_type": "code",
   "execution_count": null,
   "metadata": {},
   "outputs": [],
   "source": []
  }
 ],
 "metadata": {
  "kernelspec": {
   "display_name": "data_science",
   "language": "python",
   "name": "data_science"
  },
  "language_info": {
   "codemirror_mode": {
    "name": "ipython",
    "version": 3
   },
   "file_extension": ".py",
   "mimetype": "text/x-python",
   "name": "python",
   "nbconvert_exporter": "python",
   "pygments_lexer": "ipython3",
   "version": "3.6.3"
  }
 },
 "nbformat": 4,
 "nbformat_minor": 2
}
